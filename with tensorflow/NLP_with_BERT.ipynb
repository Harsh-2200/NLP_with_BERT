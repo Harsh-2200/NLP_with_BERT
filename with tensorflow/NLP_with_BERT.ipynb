{
  "nbformat": 4,
  "nbformat_minor": 0,
  "metadata": {
    "colab": {
      "name": "NLP_with_BERT.ipynb",
      "provenance": [],
      "collapsed_sections": []
    },
    "kernelspec": {
      "name": "python3",
      "display_name": "Python 3"
    },
    "language_info": {
      "name": "python"
    }
  },
  "cells": [
    {
      "cell_type": "code",
      "execution_count": 1,
      "metadata": {
        "colab": {
          "base_uri": "https://localhost:8080/"
        },
        "id": "_j2dtAnkt2CG",
        "outputId": "391ae33c-99e0-4fb2-fdd3-77365640bca6"
      },
      "outputs": [
        {
          "output_type": "stream",
          "name": "stdout",
          "text": [
            "Looking in indexes: https://pypi.org/simple, https://us-python.pkg.dev/colab-wheels/public/simple/\n",
            "Collecting ktrain\n",
            "  Downloading ktrain-0.31.7.tar.gz (25.3 MB)\n",
            "\u001b[K     |████████████████████████████████| 25.3 MB 1.6 MB/s \n",
            "\u001b[?25hRequirement already satisfied: scikit-learn in /usr/local/lib/python3.7/dist-packages (from ktrain) (1.0.2)\n",
            "Requirement already satisfied: matplotlib>=3.0.0 in /usr/local/lib/python3.7/dist-packages (from ktrain) (3.2.2)\n",
            "Requirement already satisfied: pandas>=1.0.1 in /usr/local/lib/python3.7/dist-packages (from ktrain) (1.3.5)\n",
            "Requirement already satisfied: fastprogress>=0.1.21 in /usr/local/lib/python3.7/dist-packages (from ktrain) (1.0.3)\n",
            "Requirement already satisfied: requests in /usr/local/lib/python3.7/dist-packages (from ktrain) (2.23.0)\n",
            "Requirement already satisfied: joblib in /usr/local/lib/python3.7/dist-packages (from ktrain) (1.1.0)\n",
            "Requirement already satisfied: packaging in /usr/local/lib/python3.7/dist-packages (from ktrain) (21.3)\n",
            "Collecting langdetect\n",
            "  Downloading langdetect-1.0.9.tar.gz (981 kB)\n",
            "\u001b[K     |████████████████████████████████| 981 kB 42.9 MB/s \n",
            "\u001b[?25hRequirement already satisfied: jieba in /usr/local/lib/python3.7/dist-packages (from ktrain) (0.42.1)\n",
            "Collecting cchardet\n",
            "  Downloading cchardet-2.1.7-cp37-cp37m-manylinux2010_x86_64.whl (263 kB)\n",
            "\u001b[K     |████████████████████████████████| 263 kB 44.6 MB/s \n",
            "\u001b[?25hRequirement already satisfied: chardet in /usr/local/lib/python3.7/dist-packages (from ktrain) (3.0.4)\n",
            "Collecting syntok>1.3.3\n",
            "  Downloading syntok-1.4.4-py3-none-any.whl (24 kB)\n",
            "Collecting transformers==4.17.0\n",
            "  Downloading transformers-4.17.0-py3-none-any.whl (3.8 MB)\n",
            "\u001b[K     |████████████████████████████████| 3.8 MB 42.0 MB/s \n",
            "\u001b[?25hCollecting sentencepiece\n",
            "  Downloading sentencepiece-0.1.97-cp37-cp37m-manylinux_2_17_x86_64.manylinux2014_x86_64.whl (1.3 MB)\n",
            "\u001b[K     |████████████████████████████████| 1.3 MB 46.2 MB/s \n",
            "\u001b[?25hCollecting keras_bert>=0.86.0\n",
            "  Downloading keras-bert-0.89.0.tar.gz (25 kB)\n",
            "Collecting whoosh\n",
            "  Downloading Whoosh-2.7.4-py2.py3-none-any.whl (468 kB)\n",
            "\u001b[K     |████████████████████████████████| 468 kB 50.9 MB/s \n",
            "\u001b[?25hRequirement already satisfied: numpy>=1.17 in /usr/local/lib/python3.7/dist-packages (from transformers==4.17.0->ktrain) (1.21.6)\n",
            "Requirement already satisfied: filelock in /usr/local/lib/python3.7/dist-packages (from transformers==4.17.0->ktrain) (3.8.0)\n",
            "Requirement already satisfied: tqdm>=4.27 in /usr/local/lib/python3.7/dist-packages (from transformers==4.17.0->ktrain) (4.64.0)\n",
            "Requirement already satisfied: importlib-metadata in /usr/local/lib/python3.7/dist-packages (from transformers==4.17.0->ktrain) (4.12.0)\n",
            "Collecting tokenizers!=0.11.3,>=0.11.1\n",
            "  Downloading tokenizers-0.12.1-cp37-cp37m-manylinux_2_12_x86_64.manylinux2010_x86_64.whl (6.6 MB)\n",
            "\u001b[K     |████████████████████████████████| 6.6 MB 43.0 MB/s \n",
            "\u001b[?25hRequirement already satisfied: regex!=2019.12.17 in /usr/local/lib/python3.7/dist-packages (from transformers==4.17.0->ktrain) (2022.6.2)\n",
            "Collecting huggingface-hub<1.0,>=0.1.0\n",
            "  Downloading huggingface_hub-0.8.1-py3-none-any.whl (101 kB)\n",
            "\u001b[K     |████████████████████████████████| 101 kB 11.9 MB/s \n",
            "\u001b[?25hCollecting sacremoses\n",
            "  Downloading sacremoses-0.0.53.tar.gz (880 kB)\n",
            "\u001b[K     |████████████████████████████████| 880 kB 58.8 MB/s \n",
            "\u001b[?25hCollecting pyyaml>=5.1\n",
            "  Downloading PyYAML-6.0-cp37-cp37m-manylinux_2_5_x86_64.manylinux1_x86_64.manylinux_2_12_x86_64.manylinux2010_x86_64.whl (596 kB)\n",
            "\u001b[K     |████████████████████████████████| 596 kB 40.2 MB/s \n",
            "\u001b[?25hRequirement already satisfied: typing-extensions>=3.7.4.3 in /usr/local/lib/python3.7/dist-packages (from huggingface-hub<1.0,>=0.1.0->transformers==4.17.0->ktrain) (4.1.1)\n",
            "Collecting keras-transformer==0.40.0\n",
            "  Downloading keras-transformer-0.40.0.tar.gz (9.7 kB)\n",
            "Collecting keras-pos-embd==0.13.0\n",
            "  Downloading keras-pos-embd-0.13.0.tar.gz (5.6 kB)\n",
            "Collecting keras-multi-head==0.29.0\n",
            "  Downloading keras-multi-head-0.29.0.tar.gz (13 kB)\n",
            "Collecting keras-layer-normalization==0.16.0\n",
            "  Downloading keras-layer-normalization-0.16.0.tar.gz (3.9 kB)\n",
            "Collecting keras-position-wise-feed-forward==0.8.0\n",
            "  Downloading keras-position-wise-feed-forward-0.8.0.tar.gz (4.1 kB)\n",
            "Collecting keras-embed-sim==0.10.0\n",
            "  Downloading keras-embed-sim-0.10.0.tar.gz (3.6 kB)\n",
            "Collecting keras-self-attention==0.51.0\n",
            "  Downloading keras-self-attention-0.51.0.tar.gz (11 kB)\n",
            "Requirement already satisfied: kiwisolver>=1.0.1 in /usr/local/lib/python3.7/dist-packages (from matplotlib>=3.0.0->ktrain) (1.4.4)\n",
            "Requirement already satisfied: python-dateutil>=2.1 in /usr/local/lib/python3.7/dist-packages (from matplotlib>=3.0.0->ktrain) (2.8.2)\n",
            "Requirement already satisfied: cycler>=0.10 in /usr/local/lib/python3.7/dist-packages (from matplotlib>=3.0.0->ktrain) (0.11.0)\n",
            "Requirement already satisfied: pyparsing!=2.0.4,!=2.1.2,!=2.1.6,>=2.0.1 in /usr/local/lib/python3.7/dist-packages (from matplotlib>=3.0.0->ktrain) (3.0.9)\n",
            "Requirement already satisfied: pytz>=2017.3 in /usr/local/lib/python3.7/dist-packages (from pandas>=1.0.1->ktrain) (2022.1)\n",
            "Requirement already satisfied: six>=1.5 in /usr/local/lib/python3.7/dist-packages (from python-dateutil>=2.1->matplotlib>=3.0.0->ktrain) (1.15.0)\n",
            "Requirement already satisfied: zipp>=0.5 in /usr/local/lib/python3.7/dist-packages (from importlib-metadata->transformers==4.17.0->ktrain) (3.8.1)\n",
            "Requirement already satisfied: certifi>=2017.4.17 in /usr/local/lib/python3.7/dist-packages (from requests->ktrain) (2022.6.15)\n",
            "Requirement already satisfied: idna<3,>=2.5 in /usr/local/lib/python3.7/dist-packages (from requests->ktrain) (2.10)\n",
            "Requirement already satisfied: urllib3!=1.25.0,!=1.25.1,<1.26,>=1.21.1 in /usr/local/lib/python3.7/dist-packages (from requests->ktrain) (1.24.3)\n",
            "Requirement already satisfied: click in /usr/local/lib/python3.7/dist-packages (from sacremoses->transformers==4.17.0->ktrain) (7.1.2)\n",
            "Requirement already satisfied: scipy>=1.1.0 in /usr/local/lib/python3.7/dist-packages (from scikit-learn->ktrain) (1.7.3)\n",
            "Requirement already satisfied: threadpoolctl>=2.0.0 in /usr/local/lib/python3.7/dist-packages (from scikit-learn->ktrain) (3.1.0)\n",
            "Building wheels for collected packages: ktrain, keras-bert, keras-transformer, keras-embed-sim, keras-layer-normalization, keras-multi-head, keras-pos-embd, keras-position-wise-feed-forward, keras-self-attention, langdetect, sacremoses\n",
            "  Building wheel for ktrain (setup.py) ... \u001b[?25l\u001b[?25hdone\n",
            "  Created wheel for ktrain: filename=ktrain-0.31.7-py3-none-any.whl size=25312842 sha256=564c5823b1e6caca2c9bded8a988e737fd23902a965e445ea4fdb75055924815\n",
            "  Stored in directory: /root/.cache/pip/wheels/e5/98/8e/ce355dcb92451e85fab93f7ea2da068843e93e703928cd06fb\n",
            "  Building wheel for keras-bert (setup.py) ... \u001b[?25l\u001b[?25hdone\n",
            "  Created wheel for keras-bert: filename=keras_bert-0.89.0-py3-none-any.whl size=33517 sha256=df02f7199c968d4a5de8d7c03fe25750a74f2a3bb639136a6f76c51c00e3407c\n",
            "  Stored in directory: /root/.cache/pip/wheels/a4/e8/45/842b3a39831261aef9154b907eacbc4ac99499a99ae829b06f\n",
            "  Building wheel for keras-transformer (setup.py) ... \u001b[?25l\u001b[?25hdone\n",
            "  Created wheel for keras-transformer: filename=keras_transformer-0.40.0-py3-none-any.whl size=12305 sha256=0cf28fba5e847de829dbf3d48d0280877142dcc6f14bbcbc0a13572e72e13e5e\n",
            "  Stored in directory: /root/.cache/pip/wheels/46/68/26/692ed21edd832833c3b0a0e21615bcacd99ca458b3f9ed571f\n",
            "  Building wheel for keras-embed-sim (setup.py) ... \u001b[?25l\u001b[?25hdone\n",
            "  Created wheel for keras-embed-sim: filename=keras_embed_sim-0.10.0-py3-none-any.whl size=3960 sha256=41fb7b835d1b835496ac78fd651e484f4bacebd403395e89e3e2e4de5eaa4cdd\n",
            "  Stored in directory: /root/.cache/pip/wheels/81/67/b5/d847588d075895281e1cf5590f819bd4cf076a554872268bd5\n",
            "  Building wheel for keras-layer-normalization (setup.py) ... \u001b[?25l\u001b[?25hdone\n",
            "  Created wheel for keras-layer-normalization: filename=keras_layer_normalization-0.16.0-py3-none-any.whl size=4668 sha256=f2a1fc23b292809555d20c4ff51731ab67fdc64f2362ba6ad5f61bdb92af927f\n",
            "  Stored in directory: /root/.cache/pip/wheels/85/5d/1c/2e619f594f69fbcf8bc20943b27d414871c409be053994813e\n",
            "  Building wheel for keras-multi-head (setup.py) ... \u001b[?25l\u001b[?25hdone\n",
            "  Created wheel for keras-multi-head: filename=keras_multi_head-0.29.0-py3-none-any.whl size=14993 sha256=87564a6e707ccba6118de5f38c9faad954c2d4f5b0a34658e90f1e62ed51dd3e\n",
            "  Stored in directory: /root/.cache/pip/wheels/86/aa/3c/9d15d24005179dae08ff291ce99c754b296347817d076fd9fb\n",
            "  Building wheel for keras-pos-embd (setup.py) ... \u001b[?25l\u001b[?25hdone\n",
            "  Created wheel for keras-pos-embd: filename=keras_pos_embd-0.13.0-py3-none-any.whl size=6962 sha256=4ae81695f9673d0794c280616592d76b675c0249ea24a08f651c2cac33007d04\n",
            "  Stored in directory: /root/.cache/pip/wheels/8d/c1/a0/dc44fcf68c857b7ff6be9a97e675e5adf51022eff1169b042f\n",
            "  Building wheel for keras-position-wise-feed-forward (setup.py) ... \u001b[?25l\u001b[?25hdone\n",
            "  Created wheel for keras-position-wise-feed-forward: filename=keras_position_wise_feed_forward-0.8.0-py3-none-any.whl size=4983 sha256=c9ad3866fd3ee580bb4601f621ffbb6f0056fcc49c3eafbda7e568d507c320fd\n",
            "  Stored in directory: /root/.cache/pip/wheels/c2/75/6f/d42f6e051506f442daeba53ff1e2d21a5f20ef8c411610f2bb\n",
            "  Building wheel for keras-self-attention (setup.py) ... \u001b[?25l\u001b[?25hdone\n",
            "  Created wheel for keras-self-attention: filename=keras_self_attention-0.51.0-py3-none-any.whl size=18912 sha256=31cbb231cf31d82d9f3196eaa46be267d3fa4b22405b7cba852018e8f37cca16\n",
            "  Stored in directory: /root/.cache/pip/wheels/95/b1/a8/5ee00cc137940b2f6fa198212e8f45d813d0e0d9c3a04035a3\n",
            "  Building wheel for langdetect (setup.py) ... \u001b[?25l\u001b[?25hdone\n",
            "  Created wheel for langdetect: filename=langdetect-1.0.9-py3-none-any.whl size=993242 sha256=13c710a1fbdde935584b7f9ae700fdd41b95e085e0d4a7467b040af50d173636\n",
            "  Stored in directory: /root/.cache/pip/wheels/c5/96/8a/f90c59ed25d75e50a8c10a1b1c2d4c402e4dacfa87f3aff36a\n",
            "  Building wheel for sacremoses (setup.py) ... \u001b[?25l\u001b[?25hdone\n",
            "  Created wheel for sacremoses: filename=sacremoses-0.0.53-py3-none-any.whl size=895260 sha256=308c294b57b546942f980d14d1930a1a9b7723a07402db94b5c228a7563ab52b\n",
            "  Stored in directory: /root/.cache/pip/wheels/87/39/dd/a83eeef36d0bf98e7a4d1933a4ad2d660295a40613079bafc9\n",
            "Successfully built ktrain keras-bert keras-transformer keras-embed-sim keras-layer-normalization keras-multi-head keras-pos-embd keras-position-wise-feed-forward keras-self-attention langdetect sacremoses\n",
            "Installing collected packages: keras-self-attention, pyyaml, keras-position-wise-feed-forward, keras-pos-embd, keras-multi-head, keras-layer-normalization, keras-embed-sim, tokenizers, sacremoses, keras-transformer, huggingface-hub, whoosh, transformers, syntok, sentencepiece, langdetect, keras-bert, cchardet, ktrain\n",
            "  Attempting uninstall: pyyaml\n",
            "    Found existing installation: PyYAML 3.13\n",
            "    Uninstalling PyYAML-3.13:\n",
            "      Successfully uninstalled PyYAML-3.13\n",
            "Successfully installed cchardet-2.1.7 huggingface-hub-0.8.1 keras-bert-0.89.0 keras-embed-sim-0.10.0 keras-layer-normalization-0.16.0 keras-multi-head-0.29.0 keras-pos-embd-0.13.0 keras-position-wise-feed-forward-0.8.0 keras-self-attention-0.51.0 keras-transformer-0.40.0 ktrain-0.31.7 langdetect-1.0.9 pyyaml-6.0 sacremoses-0.0.53 sentencepiece-0.1.97 syntok-1.4.4 tokenizers-0.12.1 transformers-4.17.0 whoosh-2.7.4\n",
            "Looking in indexes: https://pypi.org/simple, https://us-python.pkg.dev/colab-wheels/public/simple/\n",
            "Collecting tensorflow_text\n",
            "  Downloading tensorflow_text-2.9.0-cp37-cp37m-manylinux_2_17_x86_64.manylinux2014_x86_64.whl (4.6 MB)\n",
            "\u001b[K     |████████████████████████████████| 4.6 MB 4.4 MB/s \n",
            "\u001b[?25hRequirement already satisfied: tensorflow-hub>=0.8.0 in /usr/local/lib/python3.7/dist-packages (from tensorflow_text) (0.12.0)\n",
            "Collecting tensorflow<2.10,>=2.9.0\n",
            "  Downloading tensorflow-2.9.1-cp37-cp37m-manylinux_2_17_x86_64.manylinux2014_x86_64.whl (511.7 MB)\n",
            "\u001b[K     |████████████████████████████████| 511.7 MB 5.5 kB/s \n",
            "\u001b[?25hRequirement already satisfied: protobuf<3.20,>=3.9.2 in /usr/local/lib/python3.7/dist-packages (from tensorflow<2.10,>=2.9.0->tensorflow_text) (3.17.3)\n",
            "Requirement already satisfied: keras-preprocessing>=1.1.1 in /usr/local/lib/python3.7/dist-packages (from tensorflow<2.10,>=2.9.0->tensorflow_text) (1.1.2)\n",
            "Requirement already satisfied: grpcio<2.0,>=1.24.3 in /usr/local/lib/python3.7/dist-packages (from tensorflow<2.10,>=2.9.0->tensorflow_text) (1.47.0)\n",
            "Collecting gast<=0.4.0,>=0.2.1\n",
            "  Downloading gast-0.4.0-py3-none-any.whl (9.8 kB)\n",
            "Requirement already satisfied: opt-einsum>=2.3.2 in /usr/local/lib/python3.7/dist-packages (from tensorflow<2.10,>=2.9.0->tensorflow_text) (3.3.0)\n",
            "Requirement already satisfied: absl-py>=1.0.0 in /usr/local/lib/python3.7/dist-packages (from tensorflow<2.10,>=2.9.0->tensorflow_text) (1.2.0)\n",
            "Requirement already satisfied: wrapt>=1.11.0 in /usr/local/lib/python3.7/dist-packages (from tensorflow<2.10,>=2.9.0->tensorflow_text) (1.14.1)\n",
            "Requirement already satisfied: tensorflow-io-gcs-filesystem>=0.23.1 in /usr/local/lib/python3.7/dist-packages (from tensorflow<2.10,>=2.9.0->tensorflow_text) (0.26.0)\n",
            "Requirement already satisfied: astunparse>=1.6.0 in /usr/local/lib/python3.7/dist-packages (from tensorflow<2.10,>=2.9.0->tensorflow_text) (1.6.3)\n",
            "Collecting tensorboard<2.10,>=2.9\n",
            "  Downloading tensorboard-2.9.1-py3-none-any.whl (5.8 MB)\n",
            "\u001b[K     |████████████████████████████████| 5.8 MB 45.1 MB/s \n",
            "\u001b[?25hCollecting flatbuffers<2,>=1.12\n",
            "  Downloading flatbuffers-1.12-py2.py3-none-any.whl (15 kB)\n",
            "Requirement already satisfied: google-pasta>=0.1.1 in /usr/local/lib/python3.7/dist-packages (from tensorflow<2.10,>=2.9.0->tensorflow_text) (0.2.0)\n",
            "Requirement already satisfied: h5py>=2.9.0 in /usr/local/lib/python3.7/dist-packages (from tensorflow<2.10,>=2.9.0->tensorflow_text) (3.1.0)\n",
            "Requirement already satisfied: libclang>=13.0.0 in /usr/local/lib/python3.7/dist-packages (from tensorflow<2.10,>=2.9.0->tensorflow_text) (14.0.6)\n",
            "Collecting tensorflow-estimator<2.10.0,>=2.9.0rc0\n",
            "  Downloading tensorflow_estimator-2.9.0-py2.py3-none-any.whl (438 kB)\n",
            "\u001b[K     |████████████████████████████████| 438 kB 68.0 MB/s \n",
            "\u001b[?25hRequirement already satisfied: typing-extensions>=3.6.6 in /usr/local/lib/python3.7/dist-packages (from tensorflow<2.10,>=2.9.0->tensorflow_text) (4.1.1)\n",
            "Requirement already satisfied: packaging in /usr/local/lib/python3.7/dist-packages (from tensorflow<2.10,>=2.9.0->tensorflow_text) (21.3)\n",
            "Requirement already satisfied: numpy>=1.20 in /usr/local/lib/python3.7/dist-packages (from tensorflow<2.10,>=2.9.0->tensorflow_text) (1.21.6)\n",
            "Requirement already satisfied: setuptools in /usr/local/lib/python3.7/dist-packages (from tensorflow<2.10,>=2.9.0->tensorflow_text) (57.4.0)\n",
            "Requirement already satisfied: termcolor>=1.1.0 in /usr/local/lib/python3.7/dist-packages (from tensorflow<2.10,>=2.9.0->tensorflow_text) (1.1.0)\n",
            "Collecting keras<2.10.0,>=2.9.0rc0\n",
            "  Downloading keras-2.9.0-py2.py3-none-any.whl (1.6 MB)\n",
            "\u001b[K     |████████████████████████████████| 1.6 MB 37.6 MB/s \n",
            "\u001b[?25hRequirement already satisfied: six>=1.12.0 in /usr/local/lib/python3.7/dist-packages (from tensorflow<2.10,>=2.9.0->tensorflow_text) (1.15.0)\n",
            "Requirement already satisfied: wheel<1.0,>=0.23.0 in /usr/local/lib/python3.7/dist-packages (from astunparse>=1.6.0->tensorflow<2.10,>=2.9.0->tensorflow_text) (0.37.1)\n",
            "Requirement already satisfied: cached-property in /usr/local/lib/python3.7/dist-packages (from h5py>=2.9.0->tensorflow<2.10,>=2.9.0->tensorflow_text) (1.5.2)\n",
            "Requirement already satisfied: google-auth<3,>=1.6.3 in /usr/local/lib/python3.7/dist-packages (from tensorboard<2.10,>=2.9->tensorflow<2.10,>=2.9.0->tensorflow_text) (1.35.0)\n",
            "Requirement already satisfied: werkzeug>=1.0.1 in /usr/local/lib/python3.7/dist-packages (from tensorboard<2.10,>=2.9->tensorflow<2.10,>=2.9.0->tensorflow_text) (1.0.1)\n",
            "Requirement already satisfied: requests<3,>=2.21.0 in /usr/local/lib/python3.7/dist-packages (from tensorboard<2.10,>=2.9->tensorflow<2.10,>=2.9.0->tensorflow_text) (2.23.0)\n",
            "Requirement already satisfied: tensorboard-data-server<0.7.0,>=0.6.0 in /usr/local/lib/python3.7/dist-packages (from tensorboard<2.10,>=2.9->tensorflow<2.10,>=2.9.0->tensorflow_text) (0.6.1)\n",
            "Requirement already satisfied: google-auth-oauthlib<0.5,>=0.4.1 in /usr/local/lib/python3.7/dist-packages (from tensorboard<2.10,>=2.9->tensorflow<2.10,>=2.9.0->tensorflow_text) (0.4.6)\n",
            "Requirement already satisfied: markdown>=2.6.8 in /usr/local/lib/python3.7/dist-packages (from tensorboard<2.10,>=2.9->tensorflow<2.10,>=2.9.0->tensorflow_text) (3.4.1)\n",
            "Requirement already satisfied: tensorboard-plugin-wit>=1.6.0 in /usr/local/lib/python3.7/dist-packages (from tensorboard<2.10,>=2.9->tensorflow<2.10,>=2.9.0->tensorflow_text) (1.8.1)\n",
            "Requirement already satisfied: pyasn1-modules>=0.2.1 in /usr/local/lib/python3.7/dist-packages (from google-auth<3,>=1.6.3->tensorboard<2.10,>=2.9->tensorflow<2.10,>=2.9.0->tensorflow_text) (0.2.8)\n",
            "Requirement already satisfied: rsa<5,>=3.1.4 in /usr/local/lib/python3.7/dist-packages (from google-auth<3,>=1.6.3->tensorboard<2.10,>=2.9->tensorflow<2.10,>=2.9.0->tensorflow_text) (4.9)\n",
            "Requirement already satisfied: cachetools<5.0,>=2.0.0 in /usr/local/lib/python3.7/dist-packages (from google-auth<3,>=1.6.3->tensorboard<2.10,>=2.9->tensorflow<2.10,>=2.9.0->tensorflow_text) (4.2.4)\n",
            "Requirement already satisfied: requests-oauthlib>=0.7.0 in /usr/local/lib/python3.7/dist-packages (from google-auth-oauthlib<0.5,>=0.4.1->tensorboard<2.10,>=2.9->tensorflow<2.10,>=2.9.0->tensorflow_text) (1.3.1)\n",
            "Requirement already satisfied: importlib-metadata>=4.4 in /usr/local/lib/python3.7/dist-packages (from markdown>=2.6.8->tensorboard<2.10,>=2.9->tensorflow<2.10,>=2.9.0->tensorflow_text) (4.12.0)\n",
            "Requirement already satisfied: zipp>=0.5 in /usr/local/lib/python3.7/dist-packages (from importlib-metadata>=4.4->markdown>=2.6.8->tensorboard<2.10,>=2.9->tensorflow<2.10,>=2.9.0->tensorflow_text) (3.8.1)\n",
            "Requirement already satisfied: pyasn1<0.5.0,>=0.4.6 in /usr/local/lib/python3.7/dist-packages (from pyasn1-modules>=0.2.1->google-auth<3,>=1.6.3->tensorboard<2.10,>=2.9->tensorflow<2.10,>=2.9.0->tensorflow_text) (0.4.8)\n",
            "Requirement already satisfied: chardet<4,>=3.0.2 in /usr/local/lib/python3.7/dist-packages (from requests<3,>=2.21.0->tensorboard<2.10,>=2.9->tensorflow<2.10,>=2.9.0->tensorflow_text) (3.0.4)\n",
            "Requirement already satisfied: urllib3!=1.25.0,!=1.25.1,<1.26,>=1.21.1 in /usr/local/lib/python3.7/dist-packages (from requests<3,>=2.21.0->tensorboard<2.10,>=2.9->tensorflow<2.10,>=2.9.0->tensorflow_text) (1.24.3)\n",
            "Requirement already satisfied: idna<3,>=2.5 in /usr/local/lib/python3.7/dist-packages (from requests<3,>=2.21.0->tensorboard<2.10,>=2.9->tensorflow<2.10,>=2.9.0->tensorflow_text) (2.10)\n",
            "Requirement already satisfied: certifi>=2017.4.17 in /usr/local/lib/python3.7/dist-packages (from requests<3,>=2.21.0->tensorboard<2.10,>=2.9->tensorflow<2.10,>=2.9.0->tensorflow_text) (2022.6.15)\n",
            "Requirement already satisfied: oauthlib>=3.0.0 in /usr/local/lib/python3.7/dist-packages (from requests-oauthlib>=0.7.0->google-auth-oauthlib<0.5,>=0.4.1->tensorboard<2.10,>=2.9->tensorflow<2.10,>=2.9.0->tensorflow_text) (3.2.0)\n",
            "Requirement already satisfied: pyparsing!=3.0.5,>=2.0.2 in /usr/local/lib/python3.7/dist-packages (from packaging->tensorflow<2.10,>=2.9.0->tensorflow_text) (3.0.9)\n",
            "Installing collected packages: tensorflow-estimator, tensorboard, keras, gast, flatbuffers, tensorflow, tensorflow-text\n",
            "  Attempting uninstall: tensorflow-estimator\n",
            "    Found existing installation: tensorflow-estimator 2.8.0\n",
            "    Uninstalling tensorflow-estimator-2.8.0:\n",
            "      Successfully uninstalled tensorflow-estimator-2.8.0\n",
            "  Attempting uninstall: tensorboard\n",
            "    Found existing installation: tensorboard 2.8.0\n",
            "    Uninstalling tensorboard-2.8.0:\n",
            "      Successfully uninstalled tensorboard-2.8.0\n",
            "  Attempting uninstall: keras\n",
            "    Found existing installation: keras 2.8.0\n",
            "    Uninstalling keras-2.8.0:\n",
            "      Successfully uninstalled keras-2.8.0\n",
            "  Attempting uninstall: gast\n",
            "    Found existing installation: gast 0.5.3\n",
            "    Uninstalling gast-0.5.3:\n",
            "      Successfully uninstalled gast-0.5.3\n",
            "  Attempting uninstall: flatbuffers\n",
            "    Found existing installation: flatbuffers 2.0\n",
            "    Uninstalling flatbuffers-2.0:\n",
            "      Successfully uninstalled flatbuffers-2.0\n",
            "  Attempting uninstall: tensorflow\n",
            "    Found existing installation: tensorflow 2.8.2+zzzcolab20220719082949\n",
            "    Uninstalling tensorflow-2.8.2+zzzcolab20220719082949:\n",
            "      Successfully uninstalled tensorflow-2.8.2+zzzcolab20220719082949\n",
            "Successfully installed flatbuffers-1.12 gast-0.4.0 keras-2.9.0 tensorboard-2.9.1 tensorflow-2.9.1 tensorflow-estimator-2.9.0 tensorflow-text-2.9.0\n"
          ]
        }
      ],
      "source": [
        "!pip install ktrain\n",
        "!pip install tensorflow_text"
      ]
    },
    {
      "cell_type": "code",
      "source": [
        "import tensorflow_hub as hub\n",
        "import tensorflow_text as text "
      ],
      "metadata": {
        "id": "rge3cWu3t96A"
      },
      "execution_count": 9,
      "outputs": []
    },
    {
      "cell_type": "code",
      "source": [
        "preprocess_url = \"https://tfhub.dev/tensorflow/bert_en_uncased_preprocess/3\"\n",
        "encoder_url = \"https://tfhub.dev/tensorflow/bert_en_uncased_L-12_H-768_A-12/4\""
      ],
      "metadata": {
        "id": "TMZ-Jp8mcEqt"
      },
      "execution_count": 10,
      "outputs": []
    },
    {
      "cell_type": "code",
      "source": [
        "bert_preprocessing_model = hub.KerasLayer(preprocess_url)"
      ],
      "metadata": {
        "id": "jA8vYmxkg_E2"
      },
      "execution_count": 13,
      "outputs": []
    },
    {
      "cell_type": "code",
      "source": [
        "bert_preprocessing_model"
      ],
      "metadata": {
        "colab": {
          "base_uri": "https://localhost:8080/"
        },
        "id": "Dbg4Jui5g_CH",
        "outputId": "2eea15f7-9005-4902-c3c3-5f8d6f124763"
      },
      "execution_count": 16,
      "outputs": [
        {
          "output_type": "execute_result",
          "data": {
            "text/plain": [
              "<tensorflow_hub.keras_layer.KerasLayer at 0x7fd8c5994d50>"
            ]
          },
          "metadata": {},
          "execution_count": 16
        }
      ]
    },
    {
      "cell_type": "code",
      "source": [
        "test_text = ['harsh is again doing something crazy' , 'python is awesome programming language']"
      ],
      "metadata": {
        "id": "PnbWr8_Kg-_q"
      },
      "execution_count": 17,
      "outputs": []
    },
    {
      "cell_type": "code",
      "source": [
        "text_preprocessing = bert_preprocessing_model(test_text)\n",
        "text_preprocessing"
      ],
      "metadata": {
        "colab": {
          "base_uri": "https://localhost:8080/"
        },
        "id": "JG9rXn4vg-9C",
        "outputId": "f827e8ee-2cb3-4571-b38c-d5633e8556d8"
      },
      "execution_count": 30,
      "outputs": [
        {
          "output_type": "execute_result",
          "data": {
            "text/plain": [
              "{'input_word_ids': <tf.Tensor: shape=(2, 128), dtype=int32, numpy=\n",
              " array([[  101,  8401,  2003,  2153,  2725,  2242,  4689,   102,     0,\n",
              "             0,     0,     0,     0,     0,     0,     0,     0,     0,\n",
              "             0,     0,     0,     0,     0,     0,     0,     0,     0,\n",
              "             0,     0,     0,     0,     0,     0,     0,     0,     0,\n",
              "             0,     0,     0,     0,     0,     0,     0,     0,     0,\n",
              "             0,     0,     0,     0,     0,     0,     0,     0,     0,\n",
              "             0,     0,     0,     0,     0,     0,     0,     0,     0,\n",
              "             0,     0,     0,     0,     0,     0,     0,     0,     0,\n",
              "             0,     0,     0,     0,     0,     0,     0,     0,     0,\n",
              "             0,     0,     0,     0,     0,     0,     0,     0,     0,\n",
              "             0,     0,     0,     0,     0,     0,     0,     0,     0,\n",
              "             0,     0,     0,     0,     0,     0,     0,     0,     0,\n",
              "             0,     0,     0,     0,     0,     0,     0,     0,     0,\n",
              "             0,     0,     0,     0,     0,     0,     0,     0,     0,\n",
              "             0,     0],\n",
              "        [  101, 18750,  2003, 12476,  4730,  2653,   102,     0,     0,\n",
              "             0,     0,     0,     0,     0,     0,     0,     0,     0,\n",
              "             0,     0,     0,     0,     0,     0,     0,     0,     0,\n",
              "             0,     0,     0,     0,     0,     0,     0,     0,     0,\n",
              "             0,     0,     0,     0,     0,     0,     0,     0,     0,\n",
              "             0,     0,     0,     0,     0,     0,     0,     0,     0,\n",
              "             0,     0,     0,     0,     0,     0,     0,     0,     0,\n",
              "             0,     0,     0,     0,     0,     0,     0,     0,     0,\n",
              "             0,     0,     0,     0,     0,     0,     0,     0,     0,\n",
              "             0,     0,     0,     0,     0,     0,     0,     0,     0,\n",
              "             0,     0,     0,     0,     0,     0,     0,     0,     0,\n",
              "             0,     0,     0,     0,     0,     0,     0,     0,     0,\n",
              "             0,     0,     0,     0,     0,     0,     0,     0,     0,\n",
              "             0,     0,     0,     0,     0,     0,     0,     0,     0,\n",
              "             0,     0]], dtype=int32)>,\n",
              " 'input_mask': <tf.Tensor: shape=(2, 128), dtype=int32, numpy=\n",
              " array([[1, 1, 1, 1, 1, 1, 1, 1, 0, 0, 0, 0, 0, 0, 0, 0, 0, 0, 0, 0, 0, 0,\n",
              "         0, 0, 0, 0, 0, 0, 0, 0, 0, 0, 0, 0, 0, 0, 0, 0, 0, 0, 0, 0, 0, 0,\n",
              "         0, 0, 0, 0, 0, 0, 0, 0, 0, 0, 0, 0, 0, 0, 0, 0, 0, 0, 0, 0, 0, 0,\n",
              "         0, 0, 0, 0, 0, 0, 0, 0, 0, 0, 0, 0, 0, 0, 0, 0, 0, 0, 0, 0, 0, 0,\n",
              "         0, 0, 0, 0, 0, 0, 0, 0, 0, 0, 0, 0, 0, 0, 0, 0, 0, 0, 0, 0, 0, 0,\n",
              "         0, 0, 0, 0, 0, 0, 0, 0, 0, 0, 0, 0, 0, 0, 0, 0, 0, 0],\n",
              "        [1, 1, 1, 1, 1, 1, 1, 0, 0, 0, 0, 0, 0, 0, 0, 0, 0, 0, 0, 0, 0, 0,\n",
              "         0, 0, 0, 0, 0, 0, 0, 0, 0, 0, 0, 0, 0, 0, 0, 0, 0, 0, 0, 0, 0, 0,\n",
              "         0, 0, 0, 0, 0, 0, 0, 0, 0, 0, 0, 0, 0, 0, 0, 0, 0, 0, 0, 0, 0, 0,\n",
              "         0, 0, 0, 0, 0, 0, 0, 0, 0, 0, 0, 0, 0, 0, 0, 0, 0, 0, 0, 0, 0, 0,\n",
              "         0, 0, 0, 0, 0, 0, 0, 0, 0, 0, 0, 0, 0, 0, 0, 0, 0, 0, 0, 0, 0, 0,\n",
              "         0, 0, 0, 0, 0, 0, 0, 0, 0, 0, 0, 0, 0, 0, 0, 0, 0, 0]],\n",
              "       dtype=int32)>,\n",
              " 'input_type_ids': <tf.Tensor: shape=(2, 128), dtype=int32, numpy=\n",
              " array([[0, 0, 0, 0, 0, 0, 0, 0, 0, 0, 0, 0, 0, 0, 0, 0, 0, 0, 0, 0, 0, 0,\n",
              "         0, 0, 0, 0, 0, 0, 0, 0, 0, 0, 0, 0, 0, 0, 0, 0, 0, 0, 0, 0, 0, 0,\n",
              "         0, 0, 0, 0, 0, 0, 0, 0, 0, 0, 0, 0, 0, 0, 0, 0, 0, 0, 0, 0, 0, 0,\n",
              "         0, 0, 0, 0, 0, 0, 0, 0, 0, 0, 0, 0, 0, 0, 0, 0, 0, 0, 0, 0, 0, 0,\n",
              "         0, 0, 0, 0, 0, 0, 0, 0, 0, 0, 0, 0, 0, 0, 0, 0, 0, 0, 0, 0, 0, 0,\n",
              "         0, 0, 0, 0, 0, 0, 0, 0, 0, 0, 0, 0, 0, 0, 0, 0, 0, 0],\n",
              "        [0, 0, 0, 0, 0, 0, 0, 0, 0, 0, 0, 0, 0, 0, 0, 0, 0, 0, 0, 0, 0, 0,\n",
              "         0, 0, 0, 0, 0, 0, 0, 0, 0, 0, 0, 0, 0, 0, 0, 0, 0, 0, 0, 0, 0, 0,\n",
              "         0, 0, 0, 0, 0, 0, 0, 0, 0, 0, 0, 0, 0, 0, 0, 0, 0, 0, 0, 0, 0, 0,\n",
              "         0, 0, 0, 0, 0, 0, 0, 0, 0, 0, 0, 0, 0, 0, 0, 0, 0, 0, 0, 0, 0, 0,\n",
              "         0, 0, 0, 0, 0, 0, 0, 0, 0, 0, 0, 0, 0, 0, 0, 0, 0, 0, 0, 0, 0, 0,\n",
              "         0, 0, 0, 0, 0, 0, 0, 0, 0, 0, 0, 0, 0, 0, 0, 0, 0, 0]],\n",
              "       dtype=int32)>}"
            ]
          },
          "metadata": {},
          "execution_count": 30
        }
      ]
    },
    {
      "cell_type": "code",
      "source": [
        "text_preprocessing.keys()"
      ],
      "metadata": {
        "colab": {
          "base_uri": "https://localhost:8080/"
        },
        "id": "HGCy4Iasg-6Y",
        "outputId": "a293035a-f24c-4713-9afe-44c9e9ad0cc7"
      },
      "execution_count": 31,
      "outputs": [
        {
          "output_type": "execute_result",
          "data": {
            "text/plain": [
              "dict_keys(['input_word_ids', 'input_mask', 'input_type_ids'])"
            ]
          },
          "metadata": {},
          "execution_count": 31
        }
      ]
    },
    {
      "cell_type": "code",
      "source": [
        "text_preprocessing['input_mask'] "
      ],
      "metadata": {
        "colab": {
          "base_uri": "https://localhost:8080/"
        },
        "id": "0OrYpO7rg-3e",
        "outputId": "4468384c-3c79-4546-991e-a54ce7b99b3d"
      },
      "execution_count": 32,
      "outputs": [
        {
          "output_type": "execute_result",
          "data": {
            "text/plain": [
              "<tf.Tensor: shape=(2, 128), dtype=int32, numpy=\n",
              "array([[1, 1, 1, 1, 1, 1, 1, 1, 0, 0, 0, 0, 0, 0, 0, 0, 0, 0, 0, 0, 0, 0,\n",
              "        0, 0, 0, 0, 0, 0, 0, 0, 0, 0, 0, 0, 0, 0, 0, 0, 0, 0, 0, 0, 0, 0,\n",
              "        0, 0, 0, 0, 0, 0, 0, 0, 0, 0, 0, 0, 0, 0, 0, 0, 0, 0, 0, 0, 0, 0,\n",
              "        0, 0, 0, 0, 0, 0, 0, 0, 0, 0, 0, 0, 0, 0, 0, 0, 0, 0, 0, 0, 0, 0,\n",
              "        0, 0, 0, 0, 0, 0, 0, 0, 0, 0, 0, 0, 0, 0, 0, 0, 0, 0, 0, 0, 0, 0,\n",
              "        0, 0, 0, 0, 0, 0, 0, 0, 0, 0, 0, 0, 0, 0, 0, 0, 0, 0],\n",
              "       [1, 1, 1, 1, 1, 1, 1, 0, 0, 0, 0, 0, 0, 0, 0, 0, 0, 0, 0, 0, 0, 0,\n",
              "        0, 0, 0, 0, 0, 0, 0, 0, 0, 0, 0, 0, 0, 0, 0, 0, 0, 0, 0, 0, 0, 0,\n",
              "        0, 0, 0, 0, 0, 0, 0, 0, 0, 0, 0, 0, 0, 0, 0, 0, 0, 0, 0, 0, 0, 0,\n",
              "        0, 0, 0, 0, 0, 0, 0, 0, 0, 0, 0, 0, 0, 0, 0, 0, 0, 0, 0, 0, 0, 0,\n",
              "        0, 0, 0, 0, 0, 0, 0, 0, 0, 0, 0, 0, 0, 0, 0, 0, 0, 0, 0, 0, 0, 0,\n",
              "        0, 0, 0, 0, 0, 0, 0, 0, 0, 0, 0, 0, 0, 0, 0, 0, 0, 0]],\n",
              "      dtype=int32)>"
            ]
          },
          "metadata": {},
          "execution_count": 32
        }
      ]
    },
    {
      "cell_type": "code",
      "source": [
        "text_preprocessing['input_type_ids']"
      ],
      "metadata": {
        "colab": {
          "base_uri": "https://localhost:8080/"
        },
        "id": "UM6cJtSsjJ6Q",
        "outputId": "080712e9-5699-4e5b-85b0-3d55c60f577c"
      },
      "execution_count": 33,
      "outputs": [
        {
          "output_type": "execute_result",
          "data": {
            "text/plain": [
              "<tf.Tensor: shape=(2, 128), dtype=int32, numpy=\n",
              "array([[0, 0, 0, 0, 0, 0, 0, 0, 0, 0, 0, 0, 0, 0, 0, 0, 0, 0, 0, 0, 0, 0,\n",
              "        0, 0, 0, 0, 0, 0, 0, 0, 0, 0, 0, 0, 0, 0, 0, 0, 0, 0, 0, 0, 0, 0,\n",
              "        0, 0, 0, 0, 0, 0, 0, 0, 0, 0, 0, 0, 0, 0, 0, 0, 0, 0, 0, 0, 0, 0,\n",
              "        0, 0, 0, 0, 0, 0, 0, 0, 0, 0, 0, 0, 0, 0, 0, 0, 0, 0, 0, 0, 0, 0,\n",
              "        0, 0, 0, 0, 0, 0, 0, 0, 0, 0, 0, 0, 0, 0, 0, 0, 0, 0, 0, 0, 0, 0,\n",
              "        0, 0, 0, 0, 0, 0, 0, 0, 0, 0, 0, 0, 0, 0, 0, 0, 0, 0],\n",
              "       [0, 0, 0, 0, 0, 0, 0, 0, 0, 0, 0, 0, 0, 0, 0, 0, 0, 0, 0, 0, 0, 0,\n",
              "        0, 0, 0, 0, 0, 0, 0, 0, 0, 0, 0, 0, 0, 0, 0, 0, 0, 0, 0, 0, 0, 0,\n",
              "        0, 0, 0, 0, 0, 0, 0, 0, 0, 0, 0, 0, 0, 0, 0, 0, 0, 0, 0, 0, 0, 0,\n",
              "        0, 0, 0, 0, 0, 0, 0, 0, 0, 0, 0, 0, 0, 0, 0, 0, 0, 0, 0, 0, 0, 0,\n",
              "        0, 0, 0, 0, 0, 0, 0, 0, 0, 0, 0, 0, 0, 0, 0, 0, 0, 0, 0, 0, 0, 0,\n",
              "        0, 0, 0, 0, 0, 0, 0, 0, 0, 0, 0, 0, 0, 0, 0, 0, 0, 0]],\n",
              "      dtype=int32)>"
            ]
          },
          "metadata": {},
          "execution_count": 33
        }
      ]
    },
    {
      "cell_type": "code",
      "source": [
        "text_preprocessing['input_word_ids']"
      ],
      "metadata": {
        "colab": {
          "base_uri": "https://localhost:8080/"
        },
        "id": "ZR-13ZLPjVRv",
        "outputId": "9933b4df-0099-472f-d2e9-4cfb08118f4a"
      },
      "execution_count": 34,
      "outputs": [
        {
          "output_type": "execute_result",
          "data": {
            "text/plain": [
              "<tf.Tensor: shape=(2, 128), dtype=int32, numpy=\n",
              "array([[  101,  8401,  2003,  2153,  2725,  2242,  4689,   102,     0,\n",
              "            0,     0,     0,     0,     0,     0,     0,     0,     0,\n",
              "            0,     0,     0,     0,     0,     0,     0,     0,     0,\n",
              "            0,     0,     0,     0,     0,     0,     0,     0,     0,\n",
              "            0,     0,     0,     0,     0,     0,     0,     0,     0,\n",
              "            0,     0,     0,     0,     0,     0,     0,     0,     0,\n",
              "            0,     0,     0,     0,     0,     0,     0,     0,     0,\n",
              "            0,     0,     0,     0,     0,     0,     0,     0,     0,\n",
              "            0,     0,     0,     0,     0,     0,     0,     0,     0,\n",
              "            0,     0,     0,     0,     0,     0,     0,     0,     0,\n",
              "            0,     0,     0,     0,     0,     0,     0,     0,     0,\n",
              "            0,     0,     0,     0,     0,     0,     0,     0,     0,\n",
              "            0,     0,     0,     0,     0,     0,     0,     0,     0,\n",
              "            0,     0,     0,     0,     0,     0,     0,     0,     0,\n",
              "            0,     0],\n",
              "       [  101, 18750,  2003, 12476,  4730,  2653,   102,     0,     0,\n",
              "            0,     0,     0,     0,     0,     0,     0,     0,     0,\n",
              "            0,     0,     0,     0,     0,     0,     0,     0,     0,\n",
              "            0,     0,     0,     0,     0,     0,     0,     0,     0,\n",
              "            0,     0,     0,     0,     0,     0,     0,     0,     0,\n",
              "            0,     0,     0,     0,     0,     0,     0,     0,     0,\n",
              "            0,     0,     0,     0,     0,     0,     0,     0,     0,\n",
              "            0,     0,     0,     0,     0,     0,     0,     0,     0,\n",
              "            0,     0,     0,     0,     0,     0,     0,     0,     0,\n",
              "            0,     0,     0,     0,     0,     0,     0,     0,     0,\n",
              "            0,     0,     0,     0,     0,     0,     0,     0,     0,\n",
              "            0,     0,     0,     0,     0,     0,     0,     0,     0,\n",
              "            0,     0,     0,     0,     0,     0,     0,     0,     0,\n",
              "            0,     0,     0,     0,     0,     0,     0,     0,     0,\n",
              "            0,     0]], dtype=int32)>"
            ]
          },
          "metadata": {},
          "execution_count": 34
        }
      ]
    },
    {
      "cell_type": "code",
      "source": [
        "bert_model = hub.KerasLayer(encoder_url)"
      ],
      "metadata": {
        "id": "0uO_2kHVjXIR"
      },
      "execution_count": 29,
      "outputs": []
    },
    {
      "cell_type": "code",
      "source": [
        "bert_results = bert_model(text_preprocessing)\n",
        "bert_results.keys()"
      ],
      "metadata": {
        "colab": {
          "base_uri": "https://localhost:8080/"
        },
        "id": "5xEHe8NRjgPT",
        "outputId": "77b7c656-7f13-4ced-d306-9b38eb250cb3"
      },
      "execution_count": 35,
      "outputs": [
        {
          "output_type": "execute_result",
          "data": {
            "text/plain": [
              "dict_keys(['default', 'sequence_output', 'pooled_output', 'encoder_outputs'])"
            ]
          },
          "metadata": {},
          "execution_count": 35
        }
      ]
    },
    {
      "cell_type": "code",
      "source": [
        "bert_results['pooled_output']"
      ],
      "metadata": {
        "colab": {
          "base_uri": "https://localhost:8080/"
        },
        "id": "Lm9Nh-KXsLfU",
        "outputId": "4bdfc5ba-2718-4ca4-d5ac-3a1e396582d9"
      },
      "execution_count": 36,
      "outputs": [
        {
          "output_type": "execute_result",
          "data": {
            "text/plain": [
              "<tf.Tensor: shape=(2, 768), dtype=float32, numpy=\n",
              "array([[-0.83410805, -0.2322368 ,  0.21249002, ...,  0.34023008,\n",
              "        -0.5311639 ,  0.860995  ],\n",
              "       [-0.940929  , -0.53784996, -0.73908263, ..., -0.7275779 ,\n",
              "        -0.7033794 ,  0.92137676]], dtype=float32)>"
            ]
          },
          "metadata": {},
          "execution_count": 36
        }
      ]
    },
    {
      "cell_type": "code",
      "source": [
        "bert_results['encoder_outputs']"
      ],
      "metadata": {
        "colab": {
          "base_uri": "https://localhost:8080/"
        },
        "id": "NP6M78apsVWL",
        "outputId": "466f99d8-bd32-40b8-cb26-b23eabd09024"
      },
      "execution_count": 39,
      "outputs": [
        {
          "output_type": "execute_result",
          "data": {
            "text/plain": [
              "[<tf.Tensor: shape=(2, 128, 768), dtype=float32, numpy=\n",
              " array([[[ 0.14512955, -0.04663784, -0.06797672, ...,  0.01886639,\n",
              "           0.02612185,  0.04844405],\n",
              "         [ 0.31881052,  0.470336  , -0.6021704 , ..., -0.03581978,\n",
              "           0.73991007, -0.32000577],\n",
              "         [-0.38064557, -0.30606386, -0.49180156, ...,  0.06443559,\n",
              "           0.96097636,  0.46114418],\n",
              "         ...,\n",
              "         [-0.1691106 , -0.21787702,  0.59607756, ...,  0.40967274,\n",
              "          -0.23059924,  0.0363085 ],\n",
              "         [-0.2387492 , -0.2386885 ,  0.45198804, ...,  0.42598152,\n",
              "          -0.13638699, -0.03050389],\n",
              "         [-0.1172392 , -0.17866592,  0.46423876, ...,  0.7007493 ,\n",
              "          -0.42095307, -0.10305829]],\n",
              " \n",
              "        [[ 0.2280519 , -0.07494813, -0.0573393 , ..., -0.04327833,\n",
              "           0.09086621, -0.02263676],\n",
              "         [ 0.7923454 ,  0.28817326, -0.12036911, ..., -1.434241  ,\n",
              "           0.5563331 , -0.23250048],\n",
              "         [-0.37119588,  0.03880043, -0.22485697, ..., -0.0950242 ,\n",
              "           0.62057424,  0.44663852],\n",
              "         ...,\n",
              "         [ 0.18031317, -0.205095  ,  0.5281396 , ..., -0.26605448,\n",
              "          -0.06932512,  0.3170594 ],\n",
              "         [ 0.09253734, -0.2401941 ,  0.39138892, ..., -0.23407215,\n",
              "           0.02258367,  0.2303885 ],\n",
              "         [ 0.23479807, -0.16459402,  0.4616118 , ...,  0.1496974 ,\n",
              "          -0.2671452 ,  0.16744325]]], dtype=float32)>,\n",
              " <tf.Tensor: shape=(2, 128, 768), dtype=float32, numpy=\n",
              " array([[[ 0.00698128, -0.17606753, -0.20622456, ...,  0.08606067,\n",
              "           0.0293436 ,  0.05059157],\n",
              "         [ 0.5413863 ,  1.1268914 , -0.0839425 , ..., -0.34705687,\n",
              "           0.7327614 , -0.8727586 ],\n",
              "         [-0.7842686 , -0.42233586, -0.22642066, ..., -0.03391188,\n",
              "           0.33402652,  0.27167657],\n",
              "         ...,\n",
              "         [-0.24551934, -0.20558433,  0.4465545 , ...,  0.87838656,\n",
              "          -0.39853555, -0.02561166],\n",
              "         [-0.27283052, -0.20316136,  0.44099584, ...,  0.8981426 ,\n",
              "          -0.40819368, -0.16182448],\n",
              "         [-0.1906125 , -0.2365927 ,  0.33703637, ...,  1.054034  ,\n",
              "          -0.685643  , -0.1346783 ]],\n",
              " \n",
              "        [[ 0.10703285, -0.22851066, -0.243732  , ...,  0.00645033,\n",
              "           0.09179828,  0.06400654],\n",
              "         [ 0.60654235,  0.77419686, -0.22490293, ..., -1.6865368 ,\n",
              "           0.1056356 , -0.38269213],\n",
              "         [-0.21511164,  0.15562667, -0.01391335, ..., -0.06934085,\n",
              "           0.23886594,  0.5129241 ],\n",
              "         ...,\n",
              "         [ 0.2634967 , -0.12806785,  0.4780148 , ...,  0.34704858,\n",
              "          -0.42821622, -0.09312745],\n",
              "         [ 0.18696845, -0.1095113 ,  0.42885292, ...,  0.4018783 ,\n",
              "          -0.38264918, -0.15335001],\n",
              "         [ 0.2997225 , -0.10382943,  0.4020866 , ...,  0.69981736,\n",
              "          -0.5993174 , -0.19350979]]], dtype=float32)>,\n",
              " <tf.Tensor: shape=(2, 128, 768), dtype=float32, numpy=\n",
              " array([[[ 0.06577893, -0.2345755 , -0.07041061, ...,  0.16304803,\n",
              "           0.02376858,  0.21125123],\n",
              "         [ 0.7997937 ,  0.86177194, -0.01068445, ..., -0.30482242,\n",
              "           0.15630054, -0.90393287],\n",
              "         [-0.92744166, -0.6584628 , -0.15951909, ...,  0.03336378,\n",
              "           0.06465653,  0.32146192],\n",
              "         ...,\n",
              "         [-0.11821371, -0.17798862,  0.6197579 , ...,  0.9228961 ,\n",
              "          -0.03456524, -0.1292296 ],\n",
              "         [-0.1971302 , -0.16656122,  0.5371099 , ...,  0.9619335 ,\n",
              "          -0.09366791, -0.23625092],\n",
              "         [-0.13027823, -0.21308309,  0.51931906, ...,  1.1337634 ,\n",
              "          -0.3162172 , -0.2256961 ]],\n",
              " \n",
              "        [[ 0.1329354 , -0.28980696, -0.05376539, ...,  0.0927251 ,\n",
              "           0.12695739,  0.17589052],\n",
              "         [ 0.71767867,  0.547575  , -0.33091322, ..., -1.499369  ,\n",
              "           0.26223266, -0.48712572],\n",
              "         [-0.36644328,  0.11915618, -0.0746996 , ...,  0.09093837,\n",
              "           0.08386114,  0.58605176],\n",
              "         ...,\n",
              "         [ 0.21920681, -0.09493348,  0.6676371 , ...,  0.6960411 ,\n",
              "           0.04810788, -0.32993445],\n",
              "         [ 0.05747502, -0.10156783,  0.5576143 , ...,  0.7862534 ,\n",
              "           0.02666581, -0.38235763],\n",
              "         [ 0.12112488, -0.02953909,  0.68147534, ...,  0.9566606 ,\n",
              "          -0.16581938, -0.428067  ]]], dtype=float32)>,\n",
              " <tf.Tensor: shape=(2, 128, 768), dtype=float32, numpy=\n",
              " array([[[ 0.33973604, -0.469412  , -0.38204226, ...,  0.26984823,\n",
              "           0.03122213,  0.7319594 ],\n",
              "         [ 0.7816889 ,  0.58060676, -0.07895313, ..., -0.33039743,\n",
              "          -0.20299646, -0.88031334],\n",
              "         [-0.9979707 , -0.8530878 ,  0.36814725, ...,  0.05558419,\n",
              "           0.02710336,  0.54073346],\n",
              "         ...,\n",
              "         [-0.24699289, -0.5579527 ,  0.88134503, ...,  0.80202395,\n",
              "          -0.47951758, -0.09596001],\n",
              "         [-0.32679644, -0.5241696 ,  0.79254544, ...,  0.7616584 ,\n",
              "          -0.46720082, -0.14135617],\n",
              "         [-0.25004816, -0.61923754,  0.88899875, ...,  1.0646648 ,\n",
              "          -0.591241  , -0.19810645]],\n",
              " \n",
              "        [[ 0.3331071 , -0.68339247, -0.2258105 , ...,  0.3030122 ,\n",
              "          -0.13266373,  0.4708189 ],\n",
              "         [ 0.8214375 ,  0.22864744, -0.20627318, ..., -1.241355  ,\n",
              "           0.4357455 , -0.698482  ],\n",
              "         [-0.5512888 , -0.09648025, -0.17980154, ..., -0.2630532 ,\n",
              "           0.17757732,  0.977548  ],\n",
              "         ...,\n",
              "         [-0.00799224, -0.5324775 ,  1.0530646 , ...,  0.75302386,\n",
              "          -0.3217409 , -0.24228041],\n",
              "         [-0.25053152, -0.52555364,  0.8863656 , ...,  0.86070037,\n",
              "          -0.37949258, -0.27080435],\n",
              "         [-0.10516365, -0.4759934 ,  1.032287  , ...,  1.1351937 ,\n",
              "          -0.4216518 , -0.47693804]]], dtype=float32)>,\n",
              " <tf.Tensor: shape=(2, 128, 768), dtype=float32, numpy=\n",
              " array([[[ 0.34682956, -0.26215297, -0.28956762, ..., -0.18994732,\n",
              "           0.367203  ,  0.8770567 ],\n",
              "         [ 0.7189074 ,  0.478264  , -0.03429651, ..., -0.40903878,\n",
              "          -0.29434267, -0.8607957 ],\n",
              "         [-0.83418196, -0.2745259 ,  0.3879486 , ..., -0.03161762,\n",
              "          -0.22530687,  0.8130123 ],\n",
              "         ...,\n",
              "         [-0.2453853 , -0.37838858,  1.1042539 , ...,  0.2674093 ,\n",
              "          -0.21251322, -0.33607218],\n",
              "         [-0.27653852, -0.40314463,  0.9413824 , ...,  0.18827492,\n",
              "          -0.22170569, -0.38926607],\n",
              "         [-0.20629668, -0.3972761 ,  1.0291569 , ...,  0.51509553,\n",
              "          -0.38718227, -0.47908315]],\n",
              " \n",
              "        [[ 0.01311038, -0.7749952 , -0.31232777, ..., -0.21425778,\n",
              "          -0.08872643,  0.6463064 ],\n",
              "         [ 0.59152246,  0.09119723, -0.2625327 , ..., -1.147799  ,\n",
              "           0.2491714 , -0.6886906 ],\n",
              "         [-0.31498903,  0.15299407, -0.5086378 , ..., -0.07352374,\n",
              "           0.4875039 ,  1.3684727 ],\n",
              "         ...,\n",
              "         [-0.3278253 , -0.19067365,  0.39100063, ...,  0.01712376,\n",
              "           0.02636419, -0.07138541],\n",
              "         [-0.5038398 , -0.21928045,  0.2807991 , ...,  0.3316486 ,\n",
              "          -0.17213456, -0.07570326],\n",
              "         [-0.38629097, -0.23592557,  0.2735961 , ...,  0.56114984,\n",
              "          -0.10418808, -0.24578159]]], dtype=float32)>,\n",
              " <tf.Tensor: shape=(2, 128, 768), dtype=float32, numpy=\n",
              " array([[[ 0.44922277, -0.23826377, -0.02644257, ..., -0.3245132 ,\n",
              "           0.522315  ,  0.816661  ],\n",
              "         [ 0.37307677,  0.34559113,  0.24903238, ..., -0.60541177,\n",
              "          -0.242704  , -0.9875905 ],\n",
              "         [-0.7848569 , -0.761666  ,  0.1124737 , ...,  0.22249229,\n",
              "          -0.30976424,  0.55649096],\n",
              "         ...,\n",
              "         [-0.22412698, -0.06834516,  1.3358462 , ...,  0.23059933,\n",
              "          -0.42849794, -0.3319065 ],\n",
              "         [-0.2506371 , -0.09131369,  1.2200185 , ...,  0.24620919,\n",
              "          -0.41864347, -0.38976794],\n",
              "         [-0.18690924, -0.07986486,  1.2614387 , ...,  0.5984928 ,\n",
              "          -0.5752218 , -0.4601386 ]],\n",
              " \n",
              "        [[-0.16011062, -0.7411428 , -0.5107785 , ..., -0.31018126,\n",
              "           0.08128313,  0.90731055],\n",
              "         [ 0.3753838 ,  0.09754273, -0.28517723, ..., -0.901261  ,\n",
              "           0.06410024, -0.6682348 ],\n",
              "         [-0.10314689,  0.03294739, -0.5817614 , ...,  0.06846689,\n",
              "           0.7424902 ,  1.79171   ],\n",
              "         ...,\n",
              "         [-0.28476232, -0.25576484,  0.7539128 , ...,  0.20691223,\n",
              "          -0.06736271,  0.12233645],\n",
              "         [-0.59438366, -0.3011917 ,  0.682486  , ...,  0.5436062 ,\n",
              "          -0.30692402,  0.10737371],\n",
              "         [-0.33999664, -0.39852273,  0.65792817, ...,  0.75531995,\n",
              "          -0.2845705 , -0.05060281]]], dtype=float32)>,\n",
              " <tf.Tensor: shape=(2, 128, 768), dtype=float32, numpy=\n",
              " array([[[ 0.4319911 , -0.24079898, -0.29747182, ..., -0.5159431 ,\n",
              "           0.8764621 ,  0.8381811 ],\n",
              "         [ 0.37209678,  0.39628217, -0.02272521, ..., -0.5125696 ,\n",
              "           0.01281387, -1.2262763 ],\n",
              "         [-0.51985306, -0.4269289 , -0.29186153, ...,  0.16041376,\n",
              "          -0.2267724 ,  0.47085127],\n",
              "         ...,\n",
              "         [-0.10446543,  0.06697927,  1.2903575 , ...,  0.5553995 ,\n",
              "          -0.3992251 , -0.31199634],\n",
              "         [-0.0750325 ,  0.05111077,  1.2113929 , ...,  0.53341097,\n",
              "          -0.3827589 , -0.24272485],\n",
              "         [-0.07333935,  0.00820528,  1.2821965 , ...,  0.8284785 ,\n",
              "          -0.4264876 , -0.28379303]],\n",
              " \n",
              "        [[-0.04002818, -0.8250223 , -0.6585341 , ..., -0.40675578,\n",
              "           0.55565006,  1.1056628 ],\n",
              "         [ 0.4885574 , -0.00386933, -0.15546691, ..., -0.6466665 ,\n",
              "           0.04554117, -0.81720597],\n",
              "         [-0.03744122,  0.04452742, -0.08530571, ...,  0.21804276,\n",
              "           0.7805137 ,  1.6999264 ],\n",
              "         ...,\n",
              "         [ 0.07068852, -0.21226305,  0.90687215, ...,  0.52869415,\n",
              "           0.06049272,  0.2592757 ],\n",
              "         [-0.2704814 , -0.21012336,  0.78893864, ...,  0.7338923 ,\n",
              "          -0.1727746 ,  0.25655252],\n",
              "         [-0.08240223, -0.3033012 ,  0.8103804 , ...,  0.7996353 ,\n",
              "          -0.13018416,  0.09184501]]], dtype=float32)>,\n",
              " <tf.Tensor: shape=(2, 128, 768), dtype=float32, numpy=\n",
              " array([[[ 0.23985517,  0.10130946, -0.64929813, ..., -0.4768923 ,\n",
              "           0.5194792 ,  0.71428645],\n",
              "         [ 0.10275711,  0.05552847,  0.593231  , ..., -0.8366821 ,\n",
              "          -0.13982598, -0.96553534],\n",
              "         [-0.45597255, -0.8744002 , -0.07189156, ..., -0.24603686,\n",
              "           0.13013697,  0.53065395],\n",
              "         ...,\n",
              "         [-0.11567774, -0.02800473,  1.5502242 , ...,  0.6003026 ,\n",
              "          -0.69310164, -0.22164023],\n",
              "         [-0.10015522,  0.11464565,  1.5381005 , ...,  0.651909  ,\n",
              "          -0.7505064 , -0.11032482],\n",
              "         [-0.08748417,  0.10577974,  1.6028244 , ...,  0.8994148 ,\n",
              "          -0.8465025 , -0.23980397]],\n",
              " \n",
              "        [[-0.0894179 , -0.4172979 , -0.7570686 , ..., -0.699359  ,\n",
              "           0.58394647,  0.9042544 ],\n",
              "         [ 0.40162212,  0.41416356,  0.10284238, ..., -0.5887689 ,\n",
              "           0.03357829, -0.6028026 ],\n",
              "         [ 0.01354711, -0.03321191,  0.19968382, ...,  0.05569228,\n",
              "           0.80637074,  1.3735678 ],\n",
              "         ...,\n",
              "         [ 0.19562899,  0.12459811,  0.75931776, ...,  0.72767925,\n",
              "           0.18144162,  0.1874125 ],\n",
              "         [-0.2458603 ,  0.29285452,  0.4349823 , ...,  0.9161816 ,\n",
              "          -0.04766149,  0.00426312],\n",
              "         [-0.0970893 ,  0.09764473,  0.7651615 , ...,  1.0305716 ,\n",
              "           0.08337782, -0.11496834]]], dtype=float32)>,\n",
              " <tf.Tensor: shape=(2, 128, 768), dtype=float32, numpy=\n",
              " array([[[ 0.27845177,  0.63444287, -0.7424559 , ..., -0.60304826,\n",
              "           0.00190488,  0.6801198 ],\n",
              "         [ 0.10559881,  0.13559234,  0.45896432, ..., -0.86730623,\n",
              "          -0.15489203, -0.7415622 ],\n",
              "         [-0.29555637, -0.2749905 , -0.1491673 , ..., -0.47222432,\n",
              "           0.25179422,  0.31525904],\n",
              "         ...,\n",
              "         [-0.10337106,  0.34263322,  1.4816515 , ...,  0.7124103 ,\n",
              "          -0.6023666 ,  0.30147204],\n",
              "         [-0.07067567,  0.46403563,  1.5061369 , ...,  0.76169777,\n",
              "          -0.6578997 ,  0.39321992],\n",
              "         [-0.11776633,  0.5718042 ,  1.556273  , ...,  0.92655873,\n",
              "          -0.72344   ,  0.22438845]],\n",
              " \n",
              "        [[-0.39828292,  0.05626103, -0.47661626, ..., -0.5581121 ,\n",
              "           0.60950184,  0.80557644],\n",
              "         [ 0.32340685,  0.22063936,  0.3248122 , ..., -0.43426713,\n",
              "           0.16063201, -0.49776256],\n",
              "         [-0.36492398,  0.2043278 ,  0.59881383, ..., -0.03095831,\n",
              "           0.75309825,  1.1836668 ],\n",
              "         ...,\n",
              "         [ 0.07409196,  0.00755081,  1.009709  , ...,  0.666856  ,\n",
              "           0.27296782,  0.56374985],\n",
              "         [-0.4374437 ,  0.3151092 ,  0.6395547 , ...,  0.8327529 ,\n",
              "          -0.12854694,  0.43933693],\n",
              "         [-0.4572421 ,  0.13626751,  0.95673674, ...,  0.6473542 ,\n",
              "           0.15472925,  0.2479481 ]]], dtype=float32)>,\n",
              " <tf.Tensor: shape=(2, 128, 768), dtype=float32, numpy=\n",
              " array([[[ 0.07246815,  0.5594568 , -0.35267767, ..., -0.2541086 ,\n",
              "          -0.353111  ,  0.39965922],\n",
              "         [ 0.32265005,  0.27408692,  0.37151298, ..., -0.7449785 ,\n",
              "          -0.26709616, -0.9224519 ],\n",
              "         [ 0.06721249, -0.11169815, -0.12544994, ..., -0.39213747,\n",
              "           0.06301309,  0.11373062],\n",
              "         ...,\n",
              "         [-0.21664888,  0.4711742 ,  1.0131612 , ...,  0.454594  ,\n",
              "          -0.69226694, -0.12979536],\n",
              "         [-0.15064773,  0.581103  ,  1.0790163 , ...,  0.4749283 ,\n",
              "          -0.72509754, -0.02991417],\n",
              "         [-0.1491119 ,  0.66921574,  1.1546134 , ...,  0.5763392 ,\n",
              "          -0.75816864, -0.09738693]],\n",
              " \n",
              "        [[-0.6908371 , -0.24975476, -0.29468557, ..., -0.9451891 ,\n",
              "           0.46405953,  0.70600045],\n",
              "         [ 0.35814238,  0.20533518,  0.21016672, ..., -0.5491795 ,\n",
              "           0.17980905, -0.43831846],\n",
              "         [-0.41027394, -0.38324386,  0.7216693 , ..., -0.24795797,\n",
              "           0.8371815 ,  0.97764516],\n",
              "         ...,\n",
              "         [-0.3150943 ,  0.29035854,  0.76819664, ...,  0.08749765,\n",
              "           0.27030227,  0.68453014],\n",
              "         [-0.71115625,  0.33405602,  0.7001431 , ...,  0.57831395,\n",
              "          -0.01743602,  0.6654938 ],\n",
              "         [-0.8708388 ,  0.36573043,  0.87521064, ...,  0.4057916 ,\n",
              "           0.16618507,  0.40249366]]], dtype=float32)>,\n",
              " <tf.Tensor: shape=(2, 128, 768), dtype=float32, numpy=\n",
              " array([[[ 1.6024333e-01,  3.6877134e-01, -2.1473029e-01, ...,\n",
              "          -3.3760017e-01, -5.8427576e-02,  1.1277391e-02],\n",
              "         [ 1.9455653e-01,  2.8109813e-01,  2.9429880e-01, ...,\n",
              "          -6.3733041e-01, -4.9381703e-04, -7.0270413e-01],\n",
              "         [ 1.8865727e-03, -2.6195168e-01, -1.0972954e-01, ...,\n",
              "          -3.6309695e-01,  3.5446876e-01,  2.9195395e-01],\n",
              "         ...,\n",
              "         [-3.8082555e-01,  2.4886847e-01,  5.9037352e-01, ...,\n",
              "           3.3076406e-02, -5.0905466e-01, -5.4178756e-01],\n",
              "         [-2.9380885e-01,  3.0745944e-01,  6.8869025e-01, ...,\n",
              "           3.6043614e-02, -5.0748867e-01, -4.8410740e-01],\n",
              "         [-2.5894251e-01,  3.5255209e-01,  7.8203368e-01, ...,\n",
              "           9.0864234e-02, -5.0622535e-01, -4.8474589e-01]],\n",
              " \n",
              "        [[-6.3944513e-01,  3.6326490e-02, -4.6862131e-01, ...,\n",
              "          -8.4727985e-01,  5.2110571e-03,  4.0039611e-01],\n",
              "         [ 4.4420567e-01,  1.2177010e-01, -1.3742715e-01, ...,\n",
              "          -4.7512603e-01,  1.4279169e-01, -4.8854312e-01],\n",
              "         [-6.7566818e-01, -4.7857305e-01,  2.2408617e-01, ...,\n",
              "          -3.3497232e-01,  5.3990781e-01,  9.4758493e-01],\n",
              "         ...,\n",
              "         [-4.3714118e-01, -1.6663785e-01,  2.1894574e-03, ...,\n",
              "          -2.4804457e-01, -2.8654730e-01,  1.8034056e-01],\n",
              "         [-7.8460294e-01,  9.1880411e-02,  2.4467406e-01, ...,\n",
              "           3.8528705e-01, -3.5569078e-01,  2.8223142e-01],\n",
              "         [-9.7467989e-01, -5.9873205e-02,  2.8401226e-01, ...,\n",
              "           1.9974980e-01, -2.5170627e-01,  2.9862010e-01]]], dtype=float32)>,\n",
              " <tf.Tensor: shape=(2, 128, 768), dtype=float32, numpy=\n",
              " array([[[ 0.08928319,  0.23662646,  0.06084459, ..., -0.22775653,\n",
              "           0.15064862,  0.18412386],\n",
              "         [-0.07529007,  0.23385845,  0.06623632, ..., -0.53830385,\n",
              "           0.24845329, -0.30960697],\n",
              "         [ 0.19369763, -0.15605225,  0.08951192, ..., -0.4226138 ,\n",
              "           0.32980126,  0.32765725],\n",
              "         ...,\n",
              "         [-0.19041106,  0.07459819,  0.08717532, ..., -0.00827294,\n",
              "           0.02151456, -0.17575894],\n",
              "         [-0.1409568 ,  0.09397881,  0.12879409, ..., -0.01383958,\n",
              "           0.02327409, -0.14852189],\n",
              "         [-0.11868151,  0.12946516,  0.17325169, ..., -0.00611965,\n",
              "           0.01608767, -0.14178678]],\n",
              " \n",
              "        [[-0.30931208,  0.10855472, -0.18312459, ..., -0.65826726,\n",
              "          -0.06414353,  0.7192082 ],\n",
              "         [ 0.26263005,  0.4446319 , -0.2269212 , ..., -0.28770095,\n",
              "           0.30560243, -0.0251141 ],\n",
              "         [-0.03861475, -0.33137676,  0.22375868, ..., -0.5211163 ,\n",
              "           0.32179275,  0.7325723 ],\n",
              "         ...,\n",
              "         [-0.12290932, -0.04783482,  0.19205764, ..., -0.04366424,\n",
              "          -0.16861196,  0.24655676],\n",
              "         [-0.24850175,  0.02192551,  0.25322574, ...,  0.14638498,\n",
              "          -0.11158094,  0.304669  ],\n",
              "         [-0.26931918,  0.01165813,  0.25703073, ...,  0.08502935,\n",
              "          -0.1095795 ,  0.29888222]]], dtype=float32)>]"
            ]
          },
          "metadata": {},
          "execution_count": 39
        }
      ]
    },
    {
      "cell_type": "code",
      "source": [
        "bert_results['sequence_output']"
      ],
      "metadata": {
        "colab": {
          "base_uri": "https://localhost:8080/"
        },
        "id": "I0V-bLeAsVTJ",
        "outputId": "d82d69bc-df08-465b-e643-ca7cbc66ca1f"
      },
      "execution_count": 38,
      "outputs": [
        {
          "output_type": "execute_result",
          "data": {
            "text/plain": [
              "<tf.Tensor: shape=(2, 128, 768), dtype=float32, numpy=\n",
              "array([[[ 0.08928319,  0.23662646,  0.06084459, ..., -0.22775653,\n",
              "          0.15064862,  0.18412386],\n",
              "        [-0.07529007,  0.23385845,  0.06623632, ..., -0.53830385,\n",
              "          0.24845329, -0.30960697],\n",
              "        [ 0.19369763, -0.15605225,  0.08951192, ..., -0.4226138 ,\n",
              "          0.32980126,  0.32765725],\n",
              "        ...,\n",
              "        [-0.19041106,  0.07459819,  0.08717532, ..., -0.00827294,\n",
              "          0.02151456, -0.17575894],\n",
              "        [-0.1409568 ,  0.09397881,  0.12879409, ..., -0.01383958,\n",
              "          0.02327409, -0.14852189],\n",
              "        [-0.11868151,  0.12946516,  0.17325169, ..., -0.00611965,\n",
              "          0.01608767, -0.14178678]],\n",
              "\n",
              "       [[-0.30931208,  0.10855472, -0.18312459, ..., -0.65826726,\n",
              "         -0.06414353,  0.7192082 ],\n",
              "        [ 0.26263005,  0.4446319 , -0.2269212 , ..., -0.28770095,\n",
              "          0.30560243, -0.0251141 ],\n",
              "        [-0.03861475, -0.33137676,  0.22375868, ..., -0.5211163 ,\n",
              "          0.32179275,  0.7325723 ],\n",
              "        ...,\n",
              "        [-0.12290932, -0.04783482,  0.19205764, ..., -0.04366424,\n",
              "         -0.16861196,  0.24655676],\n",
              "        [-0.24850175,  0.02192551,  0.25322574, ...,  0.14638498,\n",
              "         -0.11158094,  0.304669  ],\n",
              "        [-0.26931918,  0.01165813,  0.25703073, ...,  0.08502935,\n",
              "         -0.1095795 ,  0.29888222]]], dtype=float32)>"
            ]
          },
          "metadata": {},
          "execution_count": 38
        }
      ]
    },
    {
      "cell_type": "code",
      "source": [
        ""
      ],
      "metadata": {
        "id": "JYabZ6PFsUnF"
      },
      "execution_count": 40,
      "outputs": []
    },
    {
      "cell_type": "code",
      "source": [
        ""
      ],
      "metadata": {
        "id": "YkSxG9Yo0jgi"
      },
      "execution_count": null,
      "outputs": []
    }
  ]
}